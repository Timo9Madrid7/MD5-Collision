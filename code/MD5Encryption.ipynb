{
 "cells": [
  {
   "cell_type": "markdown",
   "metadata": {},
   "source": [
    "# MD5 Python Implementation"
   ]
  },
  {
   "cell_type": "code",
   "execution_count": 1,
   "metadata": {},
   "outputs": [],
   "source": [
    "class MD5:\n",
    "    \n",
    "    def __init__(self, message):\n",
    "        \"\"\"\n",
    "        the message is the string format of a hex\n",
    "        \"\"\"\n",
    "        self.message = message\n",
    "    \n",
    "    def padding(self):\n",
    "        \"\"\"\n",
    "        return the padded hex with a string format\n",
    "        \"\"\"\n",
    "        pad_len_1 = 112 - (len(self.message) % 112) - 1\n",
    "        m_len = hex(len(self.message)*4)[2:]\n",
    "        if len(m_len) > 2:\n",
    "            if len(m_len) % 2 != 0: ML = '0' + m_len\n",
    "            m_len = ML[-2:]\n",
    "            for i in range(int(len(ML)/2)-1):\n",
    "                m_len += ML[-2*(i+1)-2:-2*(i+1)]\n",
    "        pad_len_2 = 16 - (len(m_len) % 16)\n",
    "        self.m_pad = self.message + '8' + '0' * pad_len_1\n",
    "        self.m_pad = self.m_pad + '0' * int(len(self.m_pad)/112 - 1) * 16 + m_len + '0' * pad_len_2\n",
    "        return self.m_pad\n",
    "    \n",
    "    def partitioning(self):\n",
    "        \"\"\"\n",
    "        return \n",
    "        1. the block messages in a list\n",
    "        2. the number of N\n",
    "        \"\"\"\n",
    "        self.m_list = []\n",
    "        self.num_block = int(len(self.m_pad)/8)\n",
    "        for i in range(self.num_block):\n",
    "            temp = self.m_pad[i*8 : (i+1)*8]\n",
    "            temp = temp[6:8] + temp[4:6] + temp[2:4] + temp[:2]\n",
    "            self.m_list.append(temp)\n",
    "        return self.m_list, int(self.num_block/16)\n",
    "    \n",
    "    def int32Control(self, x: int):\n",
    "        \"\"\"\n",
    "        overflow control\n",
    "        \"\"\"\n",
    "        if x > 2147483647: return -2147483648 + (x - 0x7fffffff) - 1\n",
    "        elif x < -2147483648: return 2147483647 - (-2147483648 - x) + 1\n",
    "        else: return x\n",
    "        \n",
    "    def AC(self, t: int):\n",
    "        \"\"\" \n",
    "        return the decimal Addition Constant ACt for each step\n",
    "        \"\"\"\n",
    "        assert(t < 64)\n",
    "        from math import sin\n",
    "        return self.int32Control(int(2**32*abs(sin(1+t))))\n",
    "    \n",
    "    def Ft(self, X, Y, Z, t: int):\n",
    "        \"\"\"\n",
    "        return the output from the non-linear function\n",
    "        \"\"\"\n",
    "        assert(t < 64)\n",
    "        if t >= 0 and t < 16: return self.int32Control((X & Y) ^ ((~X) & Z))\n",
    "        elif t >= 16 and t < 32: return self.int32Control((Z & X) ^ ((~Z) & Y))\n",
    "        elif t >= 32 and t < 48: return self.int32Control(X ^ Y ^ Z) \n",
    "        else: return self.int32Control((Y ^ (X | (~Z))))\n",
    "        \n",
    "    def RC(self, t: int):\n",
    "        \"\"\"\n",
    "        return the Rotation Constant RCt, RCt+1, RCt+2, RCt+3\n",
    "        \"\"\"\n",
    "        assert(t < 64)\n",
    "        if t >=0 and t < 16:\n",
    "            if t % 4 == 0: return 7\n",
    "            elif t % 4 == 1: return 12\n",
    "            elif t % 4 == 2: return 17\n",
    "            else: return 22\n",
    "        elif t >= 16 and t < 32:\n",
    "            if t % 4 == 0: return 5\n",
    "            elif t % 4 == 1: return 9\n",
    "            elif t % 4 == 2: return 14\n",
    "            else: return 20\n",
    "        elif t >=32 and t < 48:\n",
    "            if t % 4 == 0: return 4\n",
    "            elif t % 4 == 1: return 11\n",
    "            elif t % 4 == 2: return 16\n",
    "            else: return 23\n",
    "        else:\n",
    "            if t % 4 == 0: return 6\n",
    "            elif t % 4 == 1: return 10\n",
    "            elif t % 4 == 2: return 15\n",
    "            else: return 21\n",
    "    \n",
    "    def rot(self, input_int, rc):\n",
    "        \"\"\"\n",
    "        return cyclic rotation\n",
    "        \"\"\"\n",
    "        input_int = self.int32Control(input_int)\n",
    "        if input_int >= 0:\n",
    "            input_bin = bin(input_int)[2:]\n",
    "        else:\n",
    "            input_bin = bin(0xffffffff + input_int + 1)[2:]\n",
    "        if (len(input_bin)<32): input_bin = '0' * (32-len(input_bin)) + input_bin\n",
    "        return self.int32Control(int('0b0' + input_bin[rc%len(input_bin):]+input_bin[:rc%len(input_bin)], 2))\n",
    "    \n",
    "    def Wt(self, N = 1, t = 0):\n",
    "        \"\"\"\n",
    "        return the word for each step\n",
    "        \"\"\"\n",
    "        if t>=0 and t < 16: return self.int32Control(int(self.m_list[16*(N-1) + t], 16))\n",
    "        if t>=16 and t < 32: return self.int32Control(int(self.m_list[16*(N-1) + (1+5*t)%16], 16))\n",
    "        if t>=32 and t < 48: return self.int32Control(int(self.m_list[16*(N-1) + (5+3*t)%16], 16))\n",
    "        if t>=48 and t < 64: return self.int32Control(int(self.m_list[16*(N-1) + (7*t)%16], 16))\n",
    "    \n",
    "    def MD5Hash(self, Q0=0x67452301, Q1=0xefcdab89, Q2=0x98badcfe, Q3=0x10325476, N=1):\n",
    "        \"\"\"\n",
    "        return the hash value of the message\n",
    "        \"\"\"\n",
    "        a = self.int32Control(Q0)\n",
    "        b = self.int32Control(Q1)\n",
    "        c = self.int32Control(Q2)\n",
    "        d = self.int32Control(Q3)\n",
    "        \n",
    "        for t in range(64): # the number of step\n",
    "            addition = self.int32Control(self.AC(t) + self.Wt(N, t) + a + self.Ft(b,c,d,t))\n",
    "            rotation = self.rot(addition, self.RC(t))\n",
    "            (a, b, c, d) = (d, \n",
    "                            self.int32Control(b + rotation),\n",
    "                            b,\n",
    "                            c\n",
    "                           )\n",
    "        \n",
    "        out = [self.int32Control(a+Q0), self.int32Control(b+Q1), self.int32Control(c+Q2), self.int32Control(d+Q3)]\n",
    "        Hash = \"\"\n",
    "        for i in range(4):\n",
    "            if out[i] < 0: temp = hex(0xffffffff + out[i] + 1)[2:]\n",
    "            else: temp = hex(out[i])[2:]\n",
    "            if len(temp) < 8: temp = '0' * (8-len(temp)) + temp\n",
    "            temp = temp[6:8] + temp[4:6] + temp[2:4] + temp[:2]\n",
    "            Hash += temp\n",
    "            \n",
    "        return Hash, Q0+a, Q1+b, Q2+c, Q3+d\n",
    "\n",
    "def encode_md5(message: str):\n",
    "    out = ''\n",
    "    for i in range(len(message)):\n",
    "        out += hex(ord(message[i]))[2:]\n",
    "    return out\n",
    "\n",
    "def hash_md5(message: str):\n",
    "    \"\"\"\n",
    "    Instance of implementation\n",
    "    \"\"\"\n",
    "    obj = MD5(message)\n",
    "    new_message = obj.padding()\n",
    "    block_message, N = obj.partitioning()\n",
    "    if N == 1: \n",
    "        hash_message, _, _, _, _ = obj.MD5Hash()\n",
    "    else:\n",
    "        _, A, B, C, D = obj.MD5Hash()\n",
    "        for n in range(2, N+1):\n",
    "            if n == N: \n",
    "                hash_message, _, _, _, _ = obj.MD5Hash(A, B, C, D, n)\n",
    "            else: _, A, B, C, D = obj.MD5Hash(A, B, C, D, n)\n",
    "    return hash_message, new_message"
   ]
  },
  {
   "cell_type": "code",
   "execution_count": 2,
   "metadata": {
    "scrolled": false
   },
   "outputs": [
    {
     "name": "stdout",
     "output_type": "stream",
     "text": [
      "467764e7f10c77695db73ab3d414c65d\n"
     ]
    }
   ],
   "source": [
    "# Example\n",
    "message = \"TU Delft\"\n",
    "encode_message = encode_md5(message)\n",
    "hash_message, _ = hash_md5(encode_message)\n",
    "print(hash_message)"
   ]
  },
  {
   "cell_type": "markdown",
   "metadata": {},
   "source": [
    "# MD5 by HashLib"
   ]
  },
  {
   "cell_type": "code",
   "execution_count": 3,
   "metadata": {},
   "outputs": [
    {
     "name": "stdout",
     "output_type": "stream",
     "text": [
      "467764e7f10c77695db73ab3d414c65d\n"
     ]
    }
   ],
   "source": [
    "import hashlib                    \n",
    "md5_object = hashlib.md5()       \n",
    "md5_object.update(b\"TU Delft\")    \n",
    "md5_result = md5_object.hexdigest() \n",
    "print(md5_result)                 "
   ]
  }
 ],
 "metadata": {
  "kernelspec": {
   "display_name": "Python 3",
   "language": "python",
   "name": "python3"
  },
  "language_info": {
   "codemirror_mode": {
    "name": "ipython",
    "version": 3
   },
   "file_extension": ".py",
   "mimetype": "text/x-python",
   "name": "python",
   "nbconvert_exporter": "python",
   "pygments_lexer": "ipython3",
   "version": "3.7.9"
  },
  "toc": {
   "base_numbering": 1,
   "nav_menu": {},
   "number_sections": true,
   "sideBar": true,
   "skip_h1_title": false,
   "title_cell": "Table of Contents",
   "title_sidebar": "Contents",
   "toc_cell": false,
   "toc_position": {},
   "toc_section_display": true,
   "toc_window_display": false
  },
  "varInspector": {
   "cols": {
    "lenName": 16,
    "lenType": 16,
    "lenVar": 40
   },
   "kernels_config": {
    "python": {
     "delete_cmd_postfix": "",
     "delete_cmd_prefix": "del ",
     "library": "var_list.py",
     "varRefreshCmd": "print(var_dic_list())"
    },
    "r": {
     "delete_cmd_postfix": ") ",
     "delete_cmd_prefix": "rm(",
     "library": "var_list.r",
     "varRefreshCmd": "cat(var_dic_list()) "
    }
   },
   "types_to_exclude": [
    "module",
    "function",
    "builtin_function_or_method",
    "instance",
    "_Feature"
   ],
   "window_display": false
  }
 },
 "nbformat": 4,
 "nbformat_minor": 4
}
